{
  "nbformat": 4,
  "nbformat_minor": 0,
  "metadata": {
    "colab": {
      "name": "ModelFit.ipynb",
      "provenance": [],
      "collapsed_sections": [],
      "mount_file_id": "1_r35E5tv3TIBaeE_qRBDUnFopn67uz_Y",
      "authorship_tag": "ABX9TyOMvvH5dfTp/YvrbWNa9mkY",
      "include_colab_link": true
    },
    "kernelspec": {
      "name": "python3",
      "display_name": "Python 3"
    }
  },
  "cells": [
    {
      "cell_type": "markdown",
      "metadata": {
        "id": "view-in-github",
        "colab_type": "text"
      },
      "source": [
        "<a href=\"https://colab.research.google.com/github/xanasa14/ShoeClassificatorFITVSFIT_GENERATOR/blob/master/ModelFit.ipynb\" target=\"_parent\"><img src=\"https://colab.research.google.com/assets/colab-badge.svg\" alt=\"Open In Colab\"/></a>"
      ]
    },
    {
      "cell_type": "code",
      "metadata": {
        "id": "mfZze1KYoyYo",
        "colab_type": "code",
        "colab": {}
      },
      "source": [
        "# Importing the Keras libraries and packages\n",
        "import tensorflow as tf\n",
        "from tensorflow.keras.models import Sequential\n",
        "from tensorflow.keras.layers import Conv2D\n",
        "from tensorflow.keras.layers import MaxPooling2D\n",
        "from tensorflow.keras.layers import Flatten\n",
        "from tensorflow.keras.layers import Dense\n",
        "from tensorflow.keras.preprocessing.image import ImageDataGenerator\n",
        "import numpy as np\n",
        "from tensorflow.keras.preprocessing import image\n",
        "from tensorflow.keras.models import load_model\n",
        "from tensorflow.keras import utils\n",
        "import warnings \n",
        "\n"
      ],
      "execution_count": 0,
      "outputs": []
    },
    {
      "cell_type": "code",
      "metadata": {
        "id": "rYy3XmuGpFc_",
        "colab_type": "code",
        "colab": {}
      },
      "source": [
        "# Part-1 - Initialising the CNN and compiling the model\n",
        "classifier = Sequential()\n",
        "\n",
        "# Step 1 - Convolution\n",
        "classifier.add(Conv2D(16, (3, 3), input_shape = (64, 64, 3), activation = 'relu'))\n",
        "\n",
        "# Step 2 - Pooling\n",
        "classifier.add(MaxPooling2D(pool_size = (2, 2)))\n",
        "\n",
        "# Adding a second convolutional layer\n",
        "classifier.add(Conv2D(32, (3, 3), activation = 'relu'))\n",
        "classifier.add(MaxPooling2D(pool_size = (2, 2)))\n",
        "\n",
        "# Adding a third convolutional layer\n",
        "classifier.add(Conv2D(64, (3, 3), activation = 'relu'))\n",
        "classifier.add(MaxPooling2D(pool_size = (2, 2)))\n",
        "\n",
        "# Step 3 - Flattening\n",
        "classifier.add(Flatten())\n",
        "\n",
        "# Step 4 - Full connection\n",
        "classifier.add(Dense(units = 64, activation = 'relu'))\n",
        "classifier.add(Dense(units = 1, activation = 'sigmoid'))\n",
        "\n",
        "# Compiling the CNN\n",
        "classifier.compile(optimizer = 'adam', loss = 'binary_crossentropy', metrics = ['accuracy'])"
      ],
      "execution_count": 0,
      "outputs": []
    },
    {
      "cell_type": "code",
      "metadata": {
        "id": "M9nqhkwEpX3g",
        "colab_type": "code",
        "outputId": "45005bc7-ada3-466d-95ef-3505abceea72",
        "colab": {
          "base_uri": "https://localhost:8080/",
          "height": 238
        }
      },
      "source": [
        "# Part 2 - Create train and test ImageDataGenerator via 'flow_from_directory' \n",
        "\n",
        "train_datagen = ImageDataGenerator(rescale = 1./255, shear_range = 0.2, zoom_range = 0.2,\n",
        "                                   horizontal_flip = True)\n",
        "print(train_datagen)\n",
        "\n",
        "training_set = train_datagen.flow_from_directory('/content/drive/My Drive/CatDogImages/Train',target_size = (64, 64),\n",
        "                                                 batch_size = 32, class_mode = 'binary')\n",
        "test_datagen = ImageDataGenerator(rescale = 1./255)\n",
        "test_set = test_datagen.flow_from_directory('/content/drive/My Drive/CatDogImages/Test', target_size = (64, 64), \n",
        "                                            batch_size = 32, class_mode = 'binary')\n",
        "# Part 3 - Fitting the CNN to the images. Train the Model on Training images. For validation, used Test Images\n",
        "classifier.fit(training_set, steps_per_epoch = 800, epochs = 3,\n",
        "                         validation_data = test_set, validation_steps = 200)\n",
        "#classifier.fit_generator(training_set, steps_per_epoch = 800, epochs = 1,\n",
        "#                         validation_data = test_set, validation_steps = 200)\n",
        "\n",
        "\n",
        "#print(classifier)\n"
      ],
      "execution_count": 20,
      "outputs": [
        {
          "output_type": "stream",
          "text": [
            "<tensorflow.python.keras.preprocessing.image.ImageDataGenerator object at 0x7f35a6e35160>\n",
            "Found 3306 images belonging to 2 classes.\n",
            "Found 628 images belonging to 2 classes.\n",
            "Epoch 1/3\n",
            "799/800 [============================>.] - ETA: 0s - loss: 0.4531 - acc: 0.7902Epoch 1/3\n",
            "800/800 [==============================] - 233s 292ms/step - loss: 0.4532 - acc: 0.7902 - val_loss: 0.5704 - val_acc: 0.7150\n",
            "Epoch 2/3\n",
            "799/800 [============================>.] - ETA: 0s - loss: 0.3864 - acc: 0.8246Epoch 1/3\n",
            "800/800 [==============================] - 234s 292ms/step - loss: 0.3862 - acc: 0.8247 - val_loss: 0.4739 - val_acc: 0.7755\n",
            "Epoch 3/3\n",
            "799/800 [============================>.] - ETA: 0s - loss: 0.3246 - acc: 0.8588Epoch 1/3\n",
            "800/800 [==============================] - 232s 290ms/step - loss: 0.3245 - acc: 0.8589 - val_loss: 0.4769 - val_acc: 0.7882\n"
          ],
          "name": "stdout"
        },
        {
          "output_type": "execute_result",
          "data": {
            "text/plain": [
              "<tensorflow.python.keras.callbacks.History at 0x7f35a6e4d3c8>"
            ]
          },
          "metadata": {
            "tags": []
          },
          "execution_count": 20
        }
      ]
    },
    {
      "cell_type": "code",
      "metadata": {
        "id": "1_55wQ3LmDtq",
        "colab_type": "code",
        "colab": {}
      },
      "source": [
        "#First pic \n",
        "import skimage.io \n",
        "import skimage.segmentation\n",
        "# Part 4 - Making new predictions for single image which is loaded from local folder\n",
        "\n",
        "test_image = image.load_img('/content/drive/My Drive/CatDogImages/secondDog.jpg', target_size = (64, 64))\n",
        "#test_image = skimage.io.imread(\"https://arteagac.github.io/blog/lime_image/img/cat-and-dog.jpg\")\n",
        "test_image = image.img_to_array(test_image)\n",
        "#print(\"test image1:\", test_image)\n",
        "test_image = np.expand_dims(test_image, axis = 0)\n",
        "#print(\"test image2:\", test_image)"
      ],
      "execution_count": 0,
      "outputs": []
    },
    {
      "cell_type": "code",
      "metadata": {
        "id": "aD46MXXPnHQh",
        "colab_type": "code",
        "colab": {
          "base_uri": "https://localhost:8080/",
          "height": 348
        },
        "outputId": "e19726e2-aa60-4224-dd6c-335d230971ba"
      },
      "source": [
        "result = classifier.predict(test_image)\n",
        "print(result)\n",
        "#training_set.class_indices\n",
        "Xi = skimage.io.imread(\"/content/drive/My Drive/CatDogImages/secondDog.jpg\")\n",
        "Xi = skimage.transform.resize(Xi, (64,64)) \n",
        "Xi = (Xi - 0.5)*2 #Inception pre-processing\n",
        "print(skimage.io.imshow(Xi/2+0.5)) # Show image before inception preprocessin\n",
        "\n",
        "if result[0][0] == 1:\n",
        "    prediction = 'dog'\n",
        "elif result[0][0] == 0:\n",
        "    prediction = 'cat'\n",
        "else:\n",
        "    prediction = 'IDK'\n",
        "    \n",
        "print(\"It is a :\", prediction)"
      ],
      "execution_count": 23,
      "outputs": [
        {
          "output_type": "stream",
          "text": [
            "[[1.]]\n",
            "AxesImage(10.8,27.8;410.4x247.099)\n",
            "It is a : dog\n"
          ],
          "name": "stdout"
        },
        {
          "output_type": "display_data",
          "data": {
            "image/png": "[encoded data removed]",
            "text/plain": [
              "<Figure size 432x288 with 1 Axes>"
            ]
          },
          "metadata": {
            "tags": []
          }
        }
      ]
    },
    {
      "cell_type": "code",
      "metadata": {
        "id": "U4xRYrHpnK1n",
        "colab_type": "code",
        "colab": {}
      },
      "source": [
        ""
      ],
      "execution_count": 0,
      "outputs": []
    }
  ]
}